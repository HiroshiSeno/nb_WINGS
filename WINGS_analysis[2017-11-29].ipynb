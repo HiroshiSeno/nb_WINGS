{
 "cells": [
  {
   "cell_type": "code",
   "execution_count": 1,
   "metadata": {
    "collapsed": true
   },
   "outputs": [],
   "source": [
    "import numpy as np\n",
    "import matplotlib.pyplot as plt\n",
    "import matplotlib.cm as cm\n",
    "import os\n",
    "import subprocess\n",
    "%matplotlib inline"
   ]
  },
  {
   "cell_type": "markdown",
   "metadata": {
    "collapsed": true
   },
   "source": [
    "# APDを計測"
   ]
  },
  {
   "cell_type": "code",
   "execution_count": 2,
   "metadata": {
    "collapsed": true
   },
   "outputs": [],
   "source": [
    "vmem_310 = np.zeros(300)\n",
    "vmem_308 = np.zeros(300)\n",
    "vmem_306 = np.zeros(300)\n",
    "vmem_304 = np.zeros(300)\n",
    "vmem_302 = np.zeros(300)"
   ]
  },
  {
   "cell_type": "code",
   "execution_count": 4,
   "metadata": {},
   "outputs": [],
   "source": [
    "for i in range(300):\n",
    "    num = \"{0:05d}\".format(i+8701)\n",
    "    vmem_310[i] = np.load('/mnt/recordings/SimulationResults/2D/20171020-1/%s/v.npy'%num)\n",
    "    vmem_308[i] = np.load('/mnt/recordings/SimulationResults/2D/20171020-2/%s/v.npy'%num)\n",
    "    vmem_306[i] = np.load('/mnt/recordings/SimulationResults/2D/20171020-3/%s/v.npy'%num)\n",
    "    vmem_304[i] = np.load('/mnt/recordings/SimulationResults/2D/20171020-4/%s/v.npy'%num)\n",
    "    vmem_302[i] = np.load('/mnt/recordings/SimulationResults/2D/20171020-5/%s/v.npy'%num)"
   ]
  },
  {
   "cell_type": "code",
   "execution_count": 11,
   "metadata": {},
   "outputs": [],
   "source": [
    "plt.plot(vmem_310, label='310K')\n",
    "plt.plot(vmem_308, label='308K')\n",
    "plt.plot(vmem_306, label='306K')\n",
    "plt.plot(vmem_304, label='304K')\n",
    "plt.plot(vmem_302, label='302K')\n",
    "plt.legend(fontsize=18)\n",
    "plt.xticks(fontsize=18)\n",
    "plt.yticks(fontsize=18)\n",
    "plt.tight_layout()\n",
    "plt.savefig('/mnt/recordings/AnalysisResult/Seno/simulation/Mahajan/20171129/APD_cooling.png', dpi=300)\n",
    "plt.close()"
   ]
  },
  {
   "cell_type": "code",
   "execution_count": null,
   "metadata": {
    "collapsed": true
   },
   "outputs": [],
   "source": []
  }
 ],
 "metadata": {
  "kernelspec": {
   "display_name": "Python 2",
   "language": "python",
   "name": "python2"
  },
  "language_info": {
   "codemirror_mode": {
    "name": "ipython",
    "version": 2
   },
   "file_extension": ".py",
   "mimetype": "text/x-python",
   "name": "python",
   "nbconvert_exporter": "python",
   "pygments_lexer": "ipython2",
   "version": "2.7.13"
  }
 },
 "nbformat": 4,
 "nbformat_minor": 2
}
